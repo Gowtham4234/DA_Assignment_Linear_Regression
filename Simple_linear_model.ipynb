{
 "cells": [
  {
   "cell_type": "markdown",
   "id": "99d100b1",
   "metadata": {},
   "source": [
    "# DA_Assignment_Linear_Regression_Model"
   ]
  },
  {
   "cell_type": "markdown",
   "id": "df5f7084",
   "metadata": {},
   "source": [
    "### Read Data from csv file"
   ]
  },
  {
   "cell_type": "code",
   "execution_count": 1,
   "id": "745f21a0",
   "metadata": {},
   "outputs": [
    {
     "data": {
      "text/html": [
       "<div>\n",
       "<style scoped>\n",
       "    .dataframe tbody tr th:only-of-type {\n",
       "        vertical-align: middle;\n",
       "    }\n",
       "\n",
       "    .dataframe tbody tr th {\n",
       "        vertical-align: top;\n",
       "    }\n",
       "\n",
       "    .dataframe thead th {\n",
       "        text-align: right;\n",
       "    }\n",
       "</style>\n",
       "<table border=\"1\" class=\"dataframe\">\n",
       "  <thead>\n",
       "    <tr style=\"text-align: right;\">\n",
       "      <th></th>\n",
       "      <th>Bedrooms</th>\n",
       "      <th>Size_sqft</th>\n",
       "      <th>Location_Rating</th>\n",
       "      <th>Price</th>\n",
       "    </tr>\n",
       "  </thead>\n",
       "  <tbody>\n",
       "    <tr>\n",
       "      <th>count</th>\n",
       "      <td>50.000000</td>\n",
       "      <td>50.000000</td>\n",
       "      <td>50.000000</td>\n",
       "      <td>50.000000</td>\n",
       "    </tr>\n",
       "    <tr>\n",
       "      <th>mean</th>\n",
       "      <td>2.880000</td>\n",
       "      <td>2234.420000</td>\n",
       "      <td>3.140000</td>\n",
       "      <td>541976.820000</td>\n",
       "    </tr>\n",
       "    <tr>\n",
       "      <th>std</th>\n",
       "      <td>1.493387</td>\n",
       "      <td>800.550961</td>\n",
       "      <td>1.442928</td>\n",
       "      <td>132835.001707</td>\n",
       "    </tr>\n",
       "    <tr>\n",
       "      <th>min</th>\n",
       "      <td>1.000000</td>\n",
       "      <td>1035.000000</td>\n",
       "      <td>1.000000</td>\n",
       "      <td>256153.000000</td>\n",
       "    </tr>\n",
       "    <tr>\n",
       "      <th>25%</th>\n",
       "      <td>1.000000</td>\n",
       "      <td>1455.500000</td>\n",
       "      <td>2.000000</td>\n",
       "      <td>437229.250000</td>\n",
       "    </tr>\n",
       "    <tr>\n",
       "      <th>50%</th>\n",
       "      <td>3.000000</td>\n",
       "      <td>2289.500000</td>\n",
       "      <td>3.000000</td>\n",
       "      <td>570614.000000</td>\n",
       "    </tr>\n",
       "    <tr>\n",
       "      <th>75%</th>\n",
       "      <td>4.000000</td>\n",
       "      <td>2965.000000</td>\n",
       "      <td>4.000000</td>\n",
       "      <td>615727.250000</td>\n",
       "    </tr>\n",
       "    <tr>\n",
       "      <th>max</th>\n",
       "      <td>5.000000</td>\n",
       "      <td>3487.000000</td>\n",
       "      <td>5.000000</td>\n",
       "      <td>810020.000000</td>\n",
       "    </tr>\n",
       "  </tbody>\n",
       "</table>\n",
       "</div>"
      ],
      "text/plain": [
       "        Bedrooms    Size_sqft  Location_Rating          Price\n",
       "count  50.000000    50.000000        50.000000      50.000000\n",
       "mean    2.880000  2234.420000         3.140000  541976.820000\n",
       "std     1.493387   800.550961         1.442928  132835.001707\n",
       "min     1.000000  1035.000000         1.000000  256153.000000\n",
       "25%     1.000000  1455.500000         2.000000  437229.250000\n",
       "50%     3.000000  2289.500000         3.000000  570614.000000\n",
       "75%     4.000000  2965.000000         4.000000  615727.250000\n",
       "max     5.000000  3487.000000         5.000000  810020.000000"
      ]
     },
     "execution_count": 1,
     "metadata": {},
     "output_type": "execute_result"
    }
   ],
   "source": [
    "import pandas as pd\n",
    "\n",
    "house_data = pd.read_csv('Simple_house_dataset.csv')\n",
    "house_data.describe()"
   ]
  },
  {
   "cell_type": "code",
   "execution_count": 2,
   "id": "2f420a77",
   "metadata": {},
   "outputs": [
    {
     "data": {
      "text/html": [
       "<div>\n",
       "<style scoped>\n",
       "    .dataframe tbody tr th:only-of-type {\n",
       "        vertical-align: middle;\n",
       "    }\n",
       "\n",
       "    .dataframe tbody tr th {\n",
       "        vertical-align: top;\n",
       "    }\n",
       "\n",
       "    .dataframe thead th {\n",
       "        text-align: right;\n",
       "    }\n",
       "</style>\n",
       "<table border=\"1\" class=\"dataframe\">\n",
       "  <thead>\n",
       "    <tr style=\"text-align: right;\">\n",
       "      <th></th>\n",
       "      <th>Bedrooms</th>\n",
       "      <th>Size_sqft</th>\n",
       "      <th>Location_Rating</th>\n",
       "      <th>Price</th>\n",
       "    </tr>\n",
       "  </thead>\n",
       "  <tbody>\n",
       "    <tr>\n",
       "      <th>0</th>\n",
       "      <td>1</td>\n",
       "      <td>2257</td>\n",
       "      <td>2</td>\n",
       "      <td>431493</td>\n",
       "    </tr>\n",
       "    <tr>\n",
       "      <th>1</th>\n",
       "      <td>5</td>\n",
       "      <td>1240</td>\n",
       "      <td>1</td>\n",
       "      <td>442519</td>\n",
       "    </tr>\n",
       "    <tr>\n",
       "      <th>2</th>\n",
       "      <td>5</td>\n",
       "      <td>3426</td>\n",
       "      <td>2</td>\n",
       "      <td>803389</td>\n",
       "    </tr>\n",
       "    <tr>\n",
       "      <th>3</th>\n",
       "      <td>1</td>\n",
       "      <td>1681</td>\n",
       "      <td>3</td>\n",
       "      <td>351683</td>\n",
       "    </tr>\n",
       "    <tr>\n",
       "      <th>4</th>\n",
       "      <td>2</td>\n",
       "      <td>2226</td>\n",
       "      <td>3</td>\n",
       "      <td>507144</td>\n",
       "    </tr>\n",
       "  </tbody>\n",
       "</table>\n",
       "</div>"
      ],
      "text/plain": [
       "   Bedrooms  Size_sqft  Location_Rating   Price\n",
       "0         1       2257                2  431493\n",
       "1         5       1240                1  442519\n",
       "2         5       3426                2  803389\n",
       "3         1       1681                3  351683\n",
       "4         2       2226                3  507144"
      ]
     },
     "execution_count": 2,
     "metadata": {},
     "output_type": "execute_result"
    }
   ],
   "source": [
    "house_data.head()"
   ]
  },
  {
   "cell_type": "markdown",
   "id": "67f28ad4",
   "metadata": {},
   "source": [
    "### Features to Predict --- Independent Variable"
   ]
  },
  {
   "cell_type": "code",
   "execution_count": 3,
   "id": "10a82f02",
   "metadata": {},
   "outputs": [
    {
     "data": {
      "text/html": [
       "<div>\n",
       "<style scoped>\n",
       "    .dataframe tbody tr th:only-of-type {\n",
       "        vertical-align: middle;\n",
       "    }\n",
       "\n",
       "    .dataframe tbody tr th {\n",
       "        vertical-align: top;\n",
       "    }\n",
       "\n",
       "    .dataframe thead th {\n",
       "        text-align: right;\n",
       "    }\n",
       "</style>\n",
       "<table border=\"1\" class=\"dataframe\">\n",
       "  <thead>\n",
       "    <tr style=\"text-align: right;\">\n",
       "      <th></th>\n",
       "      <th>Bedrooms</th>\n",
       "      <th>Size_sqft</th>\n",
       "      <th>Location_Rating</th>\n",
       "    </tr>\n",
       "  </thead>\n",
       "  <tbody>\n",
       "    <tr>\n",
       "      <th>count</th>\n",
       "      <td>50.000000</td>\n",
       "      <td>50.000000</td>\n",
       "      <td>50.000000</td>\n",
       "    </tr>\n",
       "    <tr>\n",
       "      <th>mean</th>\n",
       "      <td>2.880000</td>\n",
       "      <td>2234.420000</td>\n",
       "      <td>3.140000</td>\n",
       "    </tr>\n",
       "    <tr>\n",
       "      <th>std</th>\n",
       "      <td>1.493387</td>\n",
       "      <td>800.550961</td>\n",
       "      <td>1.442928</td>\n",
       "    </tr>\n",
       "    <tr>\n",
       "      <th>min</th>\n",
       "      <td>1.000000</td>\n",
       "      <td>1035.000000</td>\n",
       "      <td>1.000000</td>\n",
       "    </tr>\n",
       "    <tr>\n",
       "      <th>25%</th>\n",
       "      <td>1.000000</td>\n",
       "      <td>1455.500000</td>\n",
       "      <td>2.000000</td>\n",
       "    </tr>\n",
       "    <tr>\n",
       "      <th>50%</th>\n",
       "      <td>3.000000</td>\n",
       "      <td>2289.500000</td>\n",
       "      <td>3.000000</td>\n",
       "    </tr>\n",
       "    <tr>\n",
       "      <th>75%</th>\n",
       "      <td>4.000000</td>\n",
       "      <td>2965.000000</td>\n",
       "      <td>4.000000</td>\n",
       "    </tr>\n",
       "    <tr>\n",
       "      <th>max</th>\n",
       "      <td>5.000000</td>\n",
       "      <td>3487.000000</td>\n",
       "      <td>5.000000</td>\n",
       "    </tr>\n",
       "  </tbody>\n",
       "</table>\n",
       "</div>"
      ],
      "text/plain": [
       "        Bedrooms    Size_sqft  Location_Rating\n",
       "count  50.000000    50.000000        50.000000\n",
       "mean    2.880000  2234.420000         3.140000\n",
       "std     1.493387   800.550961         1.442928\n",
       "min     1.000000  1035.000000         1.000000\n",
       "25%     1.000000  1455.500000         2.000000\n",
       "50%     3.000000  2289.500000         3.000000\n",
       "75%     4.000000  2965.000000         4.000000\n",
       "max     5.000000  3487.000000         5.000000"
      ]
     },
     "execution_count": 3,
     "metadata": {},
     "output_type": "execute_result"
    }
   ],
   "source": [
    "house_features = ['Bedrooms', 'Size_sqft', 'Location_Rating']\n",
    "\n",
    "X = house_data[house_features]\n",
    "X.describe()\n"
   ]
  },
  {
   "cell_type": "markdown",
   "id": "9fff68ca",
   "metadata": {},
   "source": [
    "### Prediction data"
   ]
  },
  {
   "cell_type": "code",
   "execution_count": 4,
   "id": "cdc6e6b9",
   "metadata": {},
   "outputs": [
    {
     "data": {
      "text/plain": [
       "count        50.000000\n",
       "mean     541976.820000\n",
       "std      132835.001707\n",
       "min      256153.000000\n",
       "25%      437229.250000\n",
       "50%      570614.000000\n",
       "75%      615727.250000\n",
       "max      810020.000000\n",
       "Name: Price, dtype: float64"
      ]
     },
     "execution_count": 4,
     "metadata": {},
     "output_type": "execute_result"
    }
   ],
   "source": [
    "y = house_data['Price']\n",
    "y.describe()"
   ]
  },
  {
   "cell_type": "code",
   "execution_count": 5,
   "id": "3a8757e5",
   "metadata": {},
   "outputs": [
    {
     "data": {
      "text/plain": [
       "0    431493\n",
       "1    442519\n",
       "2    803389\n",
       "3    351683\n",
       "4    507144\n",
       "Name: Price, dtype: int64"
      ]
     },
     "execution_count": 5,
     "metadata": {},
     "output_type": "execute_result"
    }
   ],
   "source": [
    "y.head()"
   ]
  },
  {
   "cell_type": "markdown",
   "id": "4fda732c",
   "metadata": {},
   "source": [
    "### Linear Model "
   ]
  },
  {
   "cell_type": "code",
   "execution_count": 6,
   "id": "806e4b84",
   "metadata": {},
   "outputs": [
    {
     "name": "stdout",
     "output_type": "stream",
     "text": [
      "Predicted House Price:  [424397.49415411 461468.37468055 801864.87129119 361063.29318528\n",
      " 492375.44297759 583329.04349983 583943.8011725  614583.6918742\n",
      " 444047.94503306 723684.85478886 338585.76477224 371977.14337387\n",
      " 623241.07967565 591245.10986293 379855.15217898 663754.4314688\n",
      " 561556.57656886 720859.04937466 411849.29633867 487128.55385258\n",
      " 519416.87029643 644557.21471177 415375.90392025 595045.61606752\n",
      " 251912.98179214 539109.74862619 596004.33056277 619414.76837534\n",
      " 631629.46422873 587841.96827411 644087.99429472 395908.41179496\n",
      " 817318.08740973 613935.13595824 477124.26968077 377134.36474943\n",
      " 596109.98460736 557909.60076746 375909.10871878 573313.66840752\n",
      " 478398.6741899  808563.03871126 675684.1377787  341517.22423103\n",
      " 456937.00189816 595003.82467665 559551.30548193 762810.79094067\n",
      " 514698.16886756 435806.36985549]\n",
      "Actual house Price:  0     431493\n",
      "1     442519\n",
      "2     803389\n",
      "3     351683\n",
      "4     507144\n",
      "5     580602\n",
      "6     594849\n",
      "7     613265\n",
      "8     450224\n",
      "9     724699\n",
      "10    342128\n",
      "11    374327\n",
      "12    623039\n",
      "13    585225\n",
      "14    377767\n",
      "15    672571\n",
      "16    573483\n",
      "17    715926\n",
      "18    397083\n",
      "19    472629\n",
      "20    498129\n",
      "21    650817\n",
      "22    413850\n",
      "23    594691\n",
      "24    256153\n",
      "25    535634\n",
      "26    614186\n",
      "27    633914\n",
      "28    616241\n",
      "29    580572\n",
      "30    638386\n",
      "31    399436\n",
      "32    810020\n",
      "33    606361\n",
      "34    482956\n",
      "35    373969\n",
      "36    596571\n",
      "37    567745\n",
      "38    390737\n",
      "39    584308\n",
      "40    462147\n",
      "41    804233\n",
      "42    678107\n",
      "43    336655\n",
      "44    468609\n",
      "45    595938\n",
      "46    549788\n",
      "47    767919\n",
      "48    521258\n",
      "49    435466\n",
      "Name: Price, dtype: int64\n"
     ]
    }
   ],
   "source": [
    "from sklearn.linear_model import LinearRegression\n",
    "\n",
    "model = LinearRegression()\n",
    "model.fit(X,y)\n",
    "model_predict = model.predict(X)\n",
    "print(\"Predicted House Price: \",model_predict)\n",
    "print(\"Actual house Price: \", y)"
   ]
  },
  {
   "cell_type": "markdown",
   "id": "2724fa2d",
   "metadata": {},
   "source": [
    "### Splitting the Data to test and train"
   ]
  },
  {
   "cell_type": "code",
   "execution_count": 7,
   "id": "842ca574",
   "metadata": {},
   "outputs": [
    {
     "name": "stdout",
     "output_type": "stream",
     "text": [
      "    Bedrooms  Size_sqft  Location_Rating\n",
      "46         2       2971                1\n",
      "14         4       1035                1\n",
      "44         5       1209                1\n",
      "32         5       3389                3\n",
      "49         2       1839                3\n",
      "46    549788\n",
      "14    377767\n",
      "44    468609\n",
      "32    810020\n",
      "49    435466\n",
      "Name: Price, dtype: int64\n",
      "    Bedrooms  Size_sqft  Location_Rating\n",
      "24         1       1077                2\n",
      "27         4       2103                5\n",
      "20         5       1351                3\n",
      "13         1       3113                4\n",
      "35         3       1227                2\n",
      "24    256153\n",
      "27    633914\n",
      "20    498129\n",
      "13    585225\n",
      "35    373969\n",
      "Name: Price, dtype: int64\n"
     ]
    }
   ],
   "source": [
    "from sklearn.model_selection import train_test_split\n",
    "\n",
    "train_X, val_X, train_y, val_y = train_test_split(X,y)\n",
    "\n",
    "print(train_X.head())\n",
    "print(train_y.head())\n",
    "print(val_X.head())\n",
    "print(val_y.head())"
   ]
  },
  {
   "cell_type": "code",
   "execution_count": 8,
   "id": "4a53f6d2",
   "metadata": {},
   "outputs": [
    {
     "data": {
      "text/plain": [
       "count        37.000000\n",
       "mean     557525.810811\n",
       "std      133291.427120\n",
       "min      336655.000000\n",
       "25%      450224.000000\n",
       "50%      573483.000000\n",
       "75%      638386.000000\n",
       "max      810020.000000\n",
       "Name: Price, dtype: float64"
      ]
     },
     "execution_count": 8,
     "metadata": {},
     "output_type": "execute_result"
    }
   ],
   "source": [
    "train_y.describe()"
   ]
  },
  {
   "cell_type": "code",
   "execution_count": 9,
   "id": "e3a8ff62",
   "metadata": {},
   "outputs": [
    {
     "data": {
      "text/plain": [
       "count        13.000000\n",
       "mean     497722.000000\n",
       "std      126031.772846\n",
       "min      256153.000000\n",
       "25%      390737.000000\n",
       "50%      535634.000000\n",
       "75%      613265.000000\n",
       "max      633914.000000\n",
       "Name: Price, dtype: float64"
      ]
     },
     "execution_count": 9,
     "metadata": {},
     "output_type": "execute_result"
    }
   ],
   "source": [
    "val_y.describe()"
   ]
  },
  {
   "cell_type": "code",
   "execution_count": 10,
   "id": "1773ab12",
   "metadata": {},
   "outputs": [
    {
     "data": {
      "text/html": [
       "<div>\n",
       "<style scoped>\n",
       "    .dataframe tbody tr th:only-of-type {\n",
       "        vertical-align: middle;\n",
       "    }\n",
       "\n",
       "    .dataframe tbody tr th {\n",
       "        vertical-align: top;\n",
       "    }\n",
       "\n",
       "    .dataframe thead th {\n",
       "        text-align: right;\n",
       "    }\n",
       "</style>\n",
       "<table border=\"1\" class=\"dataframe\">\n",
       "  <thead>\n",
       "    <tr style=\"text-align: right;\">\n",
       "      <th></th>\n",
       "      <th>Bedrooms</th>\n",
       "      <th>Size_sqft</th>\n",
       "      <th>Location_Rating</th>\n",
       "    </tr>\n",
       "  </thead>\n",
       "  <tbody>\n",
       "    <tr>\n",
       "      <th>count</th>\n",
       "      <td>13.000000</td>\n",
       "      <td>13.00000</td>\n",
       "      <td>13.000000</td>\n",
       "    </tr>\n",
       "    <tr>\n",
       "      <th>mean</th>\n",
       "      <td>2.461538</td>\n",
       "      <td>2153.00000</td>\n",
       "      <td>2.615385</td>\n",
       "    </tr>\n",
       "    <tr>\n",
       "      <th>std</th>\n",
       "      <td>1.613246</td>\n",
       "      <td>701.75613</td>\n",
       "      <td>1.325296</td>\n",
       "    </tr>\n",
       "    <tr>\n",
       "      <th>min</th>\n",
       "      <td>1.000000</td>\n",
       "      <td>1077.00000</td>\n",
       "      <td>1.000000</td>\n",
       "    </tr>\n",
       "    <tr>\n",
       "      <th>25%</th>\n",
       "      <td>1.000000</td>\n",
       "      <td>1681.00000</td>\n",
       "      <td>2.000000</td>\n",
       "    </tr>\n",
       "    <tr>\n",
       "      <th>50%</th>\n",
       "      <td>2.000000</td>\n",
       "      <td>2204.00000</td>\n",
       "      <td>2.000000</td>\n",
       "    </tr>\n",
       "    <tr>\n",
       "      <th>75%</th>\n",
       "      <td>4.000000</td>\n",
       "      <td>2403.00000</td>\n",
       "      <td>4.000000</td>\n",
       "    </tr>\n",
       "    <tr>\n",
       "      <th>max</th>\n",
       "      <td>5.000000</td>\n",
       "      <td>3487.00000</td>\n",
       "      <td>5.000000</td>\n",
       "    </tr>\n",
       "  </tbody>\n",
       "</table>\n",
       "</div>"
      ],
      "text/plain": [
       "        Bedrooms   Size_sqft  Location_Rating\n",
       "count  13.000000    13.00000        13.000000\n",
       "mean    2.461538  2153.00000         2.615385\n",
       "std     1.613246   701.75613         1.325296\n",
       "min     1.000000  1077.00000         1.000000\n",
       "25%     1.000000  1681.00000         2.000000\n",
       "50%     2.000000  2204.00000         2.000000\n",
       "75%     4.000000  2403.00000         4.000000\n",
       "max     5.000000  3487.00000         5.000000"
      ]
     },
     "execution_count": 10,
     "metadata": {},
     "output_type": "execute_result"
    }
   ],
   "source": [
    "val_X.describe()"
   ]
  },
  {
   "cell_type": "code",
   "execution_count": 11,
   "id": "ead676ae",
   "metadata": {},
   "outputs": [
    {
     "data": {
      "text/html": [
       "<div>\n",
       "<style scoped>\n",
       "    .dataframe tbody tr th:only-of-type {\n",
       "        vertical-align: middle;\n",
       "    }\n",
       "\n",
       "    .dataframe tbody tr th {\n",
       "        vertical-align: top;\n",
       "    }\n",
       "\n",
       "    .dataframe thead th {\n",
       "        text-align: right;\n",
       "    }\n",
       "</style>\n",
       "<table border=\"1\" class=\"dataframe\">\n",
       "  <thead>\n",
       "    <tr style=\"text-align: right;\">\n",
       "      <th></th>\n",
       "      <th>Bedrooms</th>\n",
       "      <th>Size_sqft</th>\n",
       "      <th>Location_Rating</th>\n",
       "    </tr>\n",
       "  </thead>\n",
       "  <tbody>\n",
       "    <tr>\n",
       "      <th>count</th>\n",
       "      <td>37.000000</td>\n",
       "      <td>37.000000</td>\n",
       "      <td>37.000000</td>\n",
       "    </tr>\n",
       "    <tr>\n",
       "      <th>mean</th>\n",
       "      <td>3.027027</td>\n",
       "      <td>2263.027027</td>\n",
       "      <td>3.324324</td>\n",
       "    </tr>\n",
       "    <tr>\n",
       "      <th>std</th>\n",
       "      <td>1.443116</td>\n",
       "      <td>839.596645</td>\n",
       "      <td>1.453999</td>\n",
       "    </tr>\n",
       "    <tr>\n",
       "      <th>min</th>\n",
       "      <td>1.000000</td>\n",
       "      <td>1035.000000</td>\n",
       "      <td>1.000000</td>\n",
       "    </tr>\n",
       "    <tr>\n",
       "      <th>25%</th>\n",
       "      <td>2.000000</td>\n",
       "      <td>1415.000000</td>\n",
       "      <td>2.000000</td>\n",
       "    </tr>\n",
       "    <tr>\n",
       "      <th>50%</th>\n",
       "      <td>3.000000</td>\n",
       "      <td>2321.000000</td>\n",
       "      <td>3.000000</td>\n",
       "    </tr>\n",
       "    <tr>\n",
       "      <th>75%</th>\n",
       "      <td>4.000000</td>\n",
       "      <td>2984.000000</td>\n",
       "      <td>5.000000</td>\n",
       "    </tr>\n",
       "    <tr>\n",
       "      <th>max</th>\n",
       "      <td>5.000000</td>\n",
       "      <td>3426.000000</td>\n",
       "      <td>5.000000</td>\n",
       "    </tr>\n",
       "  </tbody>\n",
       "</table>\n",
       "</div>"
      ],
      "text/plain": [
       "        Bedrooms    Size_sqft  Location_Rating\n",
       "count  37.000000    37.000000        37.000000\n",
       "mean    3.027027  2263.027027         3.324324\n",
       "std     1.443116   839.596645         1.453999\n",
       "min     1.000000  1035.000000         1.000000\n",
       "25%     2.000000  1415.000000         2.000000\n",
       "50%     3.000000  2321.000000         3.000000\n",
       "75%     4.000000  2984.000000         5.000000\n",
       "max     5.000000  3426.000000         5.000000"
      ]
     },
     "execution_count": 11,
     "metadata": {},
     "output_type": "execute_result"
    }
   ],
   "source": [
    "train_X.describe()"
   ]
  },
  {
   "cell_type": "markdown",
   "id": "a9556f18",
   "metadata": {},
   "source": [
    "### New Model for Splitted data"
   ]
  },
  {
   "cell_type": "code",
   "execution_count": 12,
   "id": "ff92701d",
   "metadata": {},
   "outputs": [
    {
     "name": "stdout",
     "output_type": "stream",
     "text": [
      "New House Price:  [251904.66880035 620095.27831425 519791.36457544 590890.59455276\n",
      " 377123.05098298 614601.32067019 414314.07059071 361104.7054054\n",
      " 581648.78625631 622781.65062032 539176.24186907 374992.59693561\n",
      " 595416.15073098]\n",
      "Actual House Price:  24    256153\n",
      "27    633914\n",
      "20    498129\n",
      "13    585225\n",
      "35    373969\n",
      "7     613265\n",
      "22    413850\n",
      "3     351683\n",
      "5     580602\n",
      "12    623039\n",
      "25    535634\n",
      "38    390737\n",
      "26    614186\n",
      "Name: Price, dtype: int64\n"
     ]
    }
   ],
   "source": [
    "from sklearn.linear_model import LinearRegression\n",
    "new_model = LinearRegression()\n",
    "\n",
    "new_model.fit(train_X,train_y)\n",
    "new_predict = new_model.predict(val_X)\n",
    "print(\"New House Price: \", new_predict)\n",
    "print(\"Actual House Price: \", val_y)"
   ]
  },
  {
   "cell_type": "markdown",
   "id": "c6b2280d",
   "metadata": {},
   "source": [
    "### To check Error and How accurate the prediction\n",
    "1. Mean Squared  Error\n",
    "2. R2 score"
   ]
  },
  {
   "cell_type": "code",
   "execution_count": 13,
   "id": "27208673",
   "metadata": {},
   "outputs": [
    {
     "name": "stdout",
     "output_type": "stream",
     "text": [
      "Mean Absolute Error:  109614077.6543123\n",
      "R2 Score:  0.9925240162388548\n"
     ]
    }
   ],
   "source": [
    "from sklearn.metrics import mean_squared_error, r2_score\n",
    "\n",
    "mse = mean_squared_error(val_y, new_predict)\n",
    "print(\"Mean Absolute Error: \",mse)\n",
    "r2score = r2_score(val_y, new_predict)\n",
    "print(\"R2 Score: \",r2score)"
   ]
  },
  {
   "cell_type": "markdown",
   "id": "c4f27a7d",
   "metadata": {},
   "source": [
    "### Vistualization of Linear Model"
   ]
  },
  {
   "cell_type": "code",
   "execution_count": 14,
   "id": "47614da6",
   "metadata": {},
   "outputs": [
    {
     "data": {
      "image/png": "[encoded data removed]",
      "text/plain": [
       "<Figure size 1000x800 with 1 Axes>"
      ]
     },
     "metadata": {},
     "output_type": "display_data"
    }
   ],
   "source": [
    "import matplotlib.pyplot as plt\n",
    "\n",
    "# Scatter plot for actual vs predicted\n",
    "plt.figure(figsize=(10, 8))\n",
    "plt.scatter(val_y, new_predict, color=\"blue\", label=\"Predicted vs Actual\")\n",
    "plt.plot([val_y.min(), val_y.max()], [val_y.min(), val_y.max()], 'r--', label=\"Perfect Prediction\")\n",
    "plt.xlabel(\"Actual Prices\")\n",
    "plt.ylabel(\"Predicted Prices\")\n",
    "plt.title(\"Actual vs Predicted House Prices\")\n",
    "plt.legend()\n",
    "plt.grid(True)\n",
    "plt.show()\n"
   ]
  },
  {
   "cell_type": "markdown",
   "id": "e9297d8d",
   "metadata": {},
   "source": [
    "### New Input Data to test\n"
   ]
  },
  {
   "cell_type": "code",
   "execution_count": 15,
   "id": "063e4178",
   "metadata": {},
   "outputs": [],
   "source": [
    "import pandas as pd\n",
    "\n",
    "new_data = pd.read_csv('new_housePredict.csv')\n",
    "new_data.describe()\n",
    "\n",
    "new_x = new_data[house_features]"
   ]
  },
  {
   "cell_type": "code",
   "execution_count": 16,
   "id": "6331fe19",
   "metadata": {},
   "outputs": [
    {
     "name": "stdout",
     "output_type": "stream",
     "text": [
      "New Prediction:  [416065.61516714 455621.44205811 798064.3650866 ]\n"
     ]
    }
   ],
   "source": [
    "from sklearn.linear_model import LinearRegression\n",
    "model_new = LinearRegression()\n",
    "model_new.fit(X, y)\n",
    "pre_val = model_new.predict(new_x)\n",
    "print(\"New Prediction: \", pre_val)"
   ]
  }
 ],
 "metadata": {
  "kernelspec": {
   "display_name": "Python 3",
   "language": "python",
   "name": "python3"
  },
  "language_info": {
   "codemirror_mode": {
    "name": "ipython",
    "version": 3
   },
   "file_extension": ".py",
   "mimetype": "text/x-python",
   "name": "python",
   "nbconvert_exporter": "python",
   "pygments_lexer": "ipython3",
   "version": "3.13.3"
  }
 },
 "nbformat": 4,
 "nbformat_minor": 5
}
